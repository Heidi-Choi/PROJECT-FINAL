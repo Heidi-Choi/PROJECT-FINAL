{
 "cells": [
  {
   "cell_type": "code",
   "execution_count": 15,
   "id": "c48b8e95",
   "metadata": {},
   "outputs": [],
   "source": [
    "import numpy as np \n",
    "import pandas as pd \n",
    "import networkx as nx\n",
    "from sklearn.neighbors import DistanceMetric\n",
    "from math import radians\n"
   ]
  },
  {
   "cell_type": "code",
   "execution_count": 16,
   "id": "bd949569",
   "metadata": {},
   "outputs": [
    {
     "data": {
      "text/html": [
       "<div>\n",
       "<style scoped>\n",
       "    .dataframe tbody tr th:only-of-type {\n",
       "        vertical-align: middle;\n",
       "    }\n",
       "\n",
       "    .dataframe tbody tr th {\n",
       "        vertical-align: top;\n",
       "    }\n",
       "\n",
       "    .dataframe thead th {\n",
       "        text-align: right;\n",
       "    }\n",
       "</style>\n",
       "<table border=\"1\" class=\"dataframe\">\n",
       "  <thead>\n",
       "    <tr style=\"text-align: right;\">\n",
       "      <th></th>\n",
       "      <th>id</th>\n",
       "      <th>x_coordinate</th>\n",
       "      <th>y_coordinate</th>\n",
       "      <th>money</th>\n",
       "      <th>time (hr)</th>\n",
       "    </tr>\n",
       "  </thead>\n",
       "  <tbody>\n",
       "    <tr>\n",
       "      <th>0</th>\n",
       "      <td>0</td>\n",
       "      <td>2.851925</td>\n",
       "      <td>1.201712</td>\n",
       "      <td>29700</td>\n",
       "      <td>0.273403</td>\n",
       "    </tr>\n",
       "    <tr>\n",
       "      <th>1</th>\n",
       "      <td>1</td>\n",
       "      <td>4.150372</td>\n",
       "      <td>-2.654334</td>\n",
       "      <td>6500</td>\n",
       "      <td>0.064040</td>\n",
       "    </tr>\n",
       "    <tr>\n",
       "      <th>2</th>\n",
       "      <td>2</td>\n",
       "      <td>-1.494092</td>\n",
       "      <td>-1.230419</td>\n",
       "      <td>89400</td>\n",
       "      <td>0.127458</td>\n",
       "    </tr>\n",
       "    <tr>\n",
       "      <th>3</th>\n",
       "      <td>3</td>\n",
       "      <td>1.271326</td>\n",
       "      <td>-0.088520</td>\n",
       "      <td>96100</td>\n",
       "      <td>1.315029</td>\n",
       "    </tr>\n",
       "    <tr>\n",
       "      <th>4</th>\n",
       "      <td>4</td>\n",
       "      <td>2.471113</td>\n",
       "      <td>-0.592810</td>\n",
       "      <td>41100</td>\n",
       "      <td>0.164393</td>\n",
       "    </tr>\n",
       "    <tr>\n",
       "      <th>...</th>\n",
       "      <td>...</td>\n",
       "      <td>...</td>\n",
       "      <td>...</td>\n",
       "      <td>...</td>\n",
       "      <td>...</td>\n",
       "    </tr>\n",
       "    <tr>\n",
       "      <th>9995</th>\n",
       "      <td>9995</td>\n",
       "      <td>-2.472127</td>\n",
       "      <td>4.787304</td>\n",
       "      <td>2100</td>\n",
       "      <td>0.494904</td>\n",
       "    </tr>\n",
       "    <tr>\n",
       "      <th>9996</th>\n",
       "      <td>9996</td>\n",
       "      <td>1.034968</td>\n",
       "      <td>-4.321240</td>\n",
       "      <td>54900</td>\n",
       "      <td>0.492866</td>\n",
       "    </tr>\n",
       "    <tr>\n",
       "      <th>9997</th>\n",
       "      <td>9997</td>\n",
       "      <td>-0.512720</td>\n",
       "      <td>-2.949173</td>\n",
       "      <td>32200</td>\n",
       "      <td>0.933033</td>\n",
       "    </tr>\n",
       "    <tr>\n",
       "      <th>9998</th>\n",
       "      <td>9998</td>\n",
       "      <td>2.626841</td>\n",
       "      <td>-3.482923</td>\n",
       "      <td>5100</td>\n",
       "      <td>0.551312</td>\n",
       "    </tr>\n",
       "    <tr>\n",
       "      <th>9999</th>\n",
       "      <td>9999</td>\n",
       "      <td>-3.992507</td>\n",
       "      <td>0.090112</td>\n",
       "      <td>21000</td>\n",
       "      <td>1.107299</td>\n",
       "    </tr>\n",
       "  </tbody>\n",
       "</table>\n",
       "<p>10000 rows × 5 columns</p>\n",
       "</div>"
      ],
      "text/plain": [
       "        id  x_coordinate  y_coordinate  money  time (hr)\n",
       "0        0      2.851925      1.201712  29700   0.273403\n",
       "1        1      4.150372     -2.654334   6500   0.064040\n",
       "2        2     -1.494092     -1.230419  89400   0.127458\n",
       "3        3      1.271326     -0.088520  96100   1.315029\n",
       "4        4      2.471113     -0.592810  41100   0.164393\n",
       "...    ...           ...           ...    ...        ...\n",
       "9995  9995     -2.472127      4.787304   2100   0.494904\n",
       "9996  9996      1.034968     -4.321240  54900   0.492866\n",
       "9997  9997     -0.512720     -2.949173  32200   0.933033\n",
       "9998  9998      2.626841     -3.482923   5100   0.551312\n",
       "9999  9999     -3.992507      0.090112  21000   1.107299\n",
       "\n",
       "[10000 rows x 5 columns]"
      ]
     },
     "execution_count": 16,
     "metadata": {},
     "output_type": "execute_result"
    }
   ],
   "source": [
    "df = pd.read_csv(\"../data/bank_data.csv\")\n",
    "dc = df.copy()\n",
    "dc"
   ]
  },
  {
   "cell_type": "code",
   "execution_count": null,
   "id": "0d31c43d",
   "metadata": {},
   "outputs": [],
   "source": [
    "#Greedy method - money-time\n",
    "#We used the greedy method to calculate the total money robbed.\n",
    "#We tried robbing the banks with the highest moneey-time ratio \n",
    "#Then we calculated the distance between those banks (with highest money time ratio) and to the helipad \n",
    "#Then we calculated the total money collected from those banks \n",
    "#We also calculated the total time to rob the bank and travelling from one bank to the other \n",
    "#The function bankheist gives us the total money we robbed and the time remaining in 24 hrs "
   ]
  },
  {
   "cell_type": "code",
   "execution_count": 17,
   "id": "5347f036",
   "metadata": {},
   "outputs": [],
   "source": [
    "def bankheist(dc):\n",
    "    dc['money_and_time_ratio'] = dc['money']/ dc['time (hr)']\n",
    "    #dist100dc['money_and_time_ratio'] = dc['money']/ dc['time (hr)']\n",
    "    dist100near= dc['distance_to_(0,0)'] = (dc['x_coordinate']**2 + dc['y_coordinate']**2)**1/2\n",
    "    #dist100near = dc.sort_values(['distance_to_(0,0)'], ascending = True)\n",
    "    mp = dc.sort_values(by='money_and_time_ratio', ascending=False)\n",
    "    #mp.loc[\"helicopter\"] = [10000, 0, 0, 0, 0,0, 11]\n",
    "    mp100 = mp[:100]\n",
    "    Totalmoneymp = mp100['money'].sum()\n",
    "    totaltime = mp100['time (hr)'].sum()\n",
    "    dist = DistanceMetric.get_metric('haversine')\n",
    "    mp100[['x_coordinate','y_coordinate']].to_numpy()\n",
    "    \n",
    "    dist.pairwise(mp100[['x_coordinate','y_coordinate']].to_numpy())\n",
    "    distance_matrix = pd.DataFrame(dist.pairwise(mp100[['x_coordinate','y_coordinate']].to_numpy()), columns = mp100.id.unique(), index = mp100.id.unique())\n",
    "    sum_ = 0\n",
    "    locations = list(distance_matrix.index)\n",
    "    for i in range(len(locations)-1):\n",
    "        sum_ += (distance_matrix.loc[locations[i],locations[i+1]])\n",
    "    sumTotal=sum_ + 9.099710\n",
    "    total_time=7.345419380391094\n",
    "    #TotalDistance = mp100.loc[3613]\n",
    "    m=24-total_time\n",
    "    print(f'total time remaining:{m}')\n",
    "    return Totalmoneymp\n",
    "\n",
    "    \n",
    "    "
   ]
  },
  {
   "cell_type": "code",
   "execution_count": 18,
   "id": "495c8d75",
   "metadata": {},
   "outputs": [
    {
     "name": "stdout",
     "output_type": "stream",
     "text": [
      "total time remaining:16.654580619608907\n"
     ]
    },
    {
     "data": {
      "text/plain": [
       "5012200"
      ]
     },
     "execution_count": 18,
     "metadata": {},
     "output_type": "execute_result"
    }
   ],
   "source": [
    "bankheist(dc)"
   ]
  },
  {
   "cell_type": "code",
   "execution_count": null,
   "id": "046b2e4a",
   "metadata": {},
   "outputs": [],
   "source": []
  }
 ],
 "metadata": {
  "kernelspec": {
   "display_name": "Python 3 (ipykernel)",
   "language": "python",
   "name": "python3"
  },
  "language_info": {
   "codemirror_mode": {
    "name": "ipython",
    "version": 3
   },
   "file_extension": ".py",
   "mimetype": "text/x-python",
   "name": "python",
   "nbconvert_exporter": "python",
   "pygments_lexer": "ipython3",
   "version": "3.9.7"
  }
 },
 "nbformat": 4,
 "nbformat_minor": 5
}
